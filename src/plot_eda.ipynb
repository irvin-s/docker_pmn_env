{
  "nbformat": 4,
  "nbformat_minor": 0,
  "metadata": {
    "colab": {
      "name": "plot_eda.ipynb",
      "provenance": [],
      "authorship_tag": "ABX9TyMBHpZliFfoR4RNIEQ3TOAq"
    },
    "kernelspec": {
      "name": "python3",
      "display_name": "Python 3"
    }
  },
  "cells": [
    {
      "cell_type": "code",
      "metadata": {
        "id": "59PD_wZgbK36"
      },
      "source": [
        "import pandas as pd\n",
        "import seaborn as sns\n",
        "import matplotlib.pyplot as plt\n",
        "\n",
        "plt.style.use('ggplot')"
      ],
      "execution_count": 13,
      "outputs": []
    },
    {
      "cell_type": "code",
      "metadata": {
        "colab": {
          "base_uri": "https://localhost:8080/"
        },
        "id": "LUw0bfJ3bTeL",
        "outputId": "4899ebd9-d705-4438-f54e-78d67fbca5d5"
      },
      "source": [
        "df = pd.read_csv('https://raw.githubusercontent.com/irvin-s/in-1166-smd/main/data/crx.data',sep=',')\n",
        "#df.columns\n",
        "#df[u'a16'].unique()\n",
        "#df[u'Situação'].value_counts()"
      ],
      "execution_count": 49,
      "outputs": [
        {
          "output_type": "execute_result",
          "data": {
            "text/plain": [
              "-    383\n",
              "+    307\n",
              "Name: Situação, dtype: int64"
            ]
          },
          "metadata": {
            "tags": []
          },
          "execution_count": 49
        }
      ]
    },
    {
      "cell_type": "code",
      "metadata": {
        "id": "k_j1qHIrbVo4"
      },
      "source": [
        "#Histograma 1\n",
        "sns.set(style=\"darkgrid\")\n",
        "situacao = df[u'Situação'].unique()\n",
        "contagem = df[u'Situação'].value_counts()\n",
        "sns.barplot(x=situacao,y=contagem,hue=situacao)"
      ],
      "execution_count": null,
      "outputs": []
    },
    {
      "cell_type": "code",
      "metadata": {
        "id": "ZsDe9YCRyODF"
      },
      "source": [
        "#Histograma 2\n"
      ],
      "execution_count": null,
      "outputs": []
    },
    {
      "cell_type": "markdown",
      "metadata": {
        "id": "zuKHCEW8dXt7"
      },
      "source": [
        ""
      ]
    }
  ]
}